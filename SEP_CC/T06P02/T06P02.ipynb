{
 "cells": [
  {
   "cell_type": "markdown",
   "metadata": {},
   "source": [
    "# T06P02 - MdSM"
   ]
  },
  {
   "cell_type": "markdown",
   "metadata": {},
   "source": [
    "## Enunciado\n",
    "\n",
    "Para la red de la figura con los datos expresados en valores pu bajo una misma base determine:\n",
    "\n",
    "1. Intensidad por el neutro del transformador para un fallo fase-tierra (monofásico) en la línea, a 5 km de la barra 2 y con una impedancia de falta a tierra $\\mathcal{Z}_f=j0.02\\mbox{ pu}$.\n",
    "\n",
    "2. Tensiones en bornas del generador para la condición de falta anterior.\n",
    "\n",
    "3. Corrientes de cortocircuito en el punto de fallo, para un fallo fase-fase (bifásico aislado) en la línea, en el mismo punto y con la misma impedancia de contacto que en el caso anterior.\n",
    "\n",
    "4. Componente homopolar de las tensiones en el punto de fallo para el caso anterior (falta bifásica aislada).\n",
    "\n",
    "**Sistema eléctrico:**\n",
    "\n",
    "<img src=\"./Figs/T06P02_Fig00.png\" width=75%>"
   ]
  },
  {
   "cell_type": "markdown",
   "metadata": {},
   "source": [
    "**NOTA SOBRE EL DESFASE DEL TRANSFORMADOR:**\n",
    "\n",
    "Obsérvese el desfase introducido por el índice horario (5) del transformador:\n",
    "\n",
    "<img src=\"./Figs/Yd5.jpeg\" width=65%>\n",
    "Adapatado de [1].\n",
    "\n",
    "[1] F. Barrero, Sistemas de Energía Eléctrica, Ed. Paraninfo, 2004, vol 1. pág. 35. ISBN: 978-84-9732-283-6."
   ]
  },
  {
   "cell_type": "markdown",
   "metadata": {},
   "source": [
    "## Resolución"
   ]
  },
  {
   "cell_type": "code",
   "execution_count": 119,
   "metadata": {},
   "outputs": [],
   "source": [
    "# Importar librerías genéricas:\n",
    "import numpy as np\n",
    "import cmath as cm\n",
    "import matplotlib.pyplot as plt\n",
    "\n",
    "# Formato general de salida de resultados numéricos:\n",
    "np.set_printoptions(precision=3, suppress=True)"
   ]
  },
  {
   "cell_type": "markdown",
   "metadata": {},
   "source": [
    "### Datos del problema"
   ]
  },
  {
   "cell_type": "code",
   "execution_count": 120,
   "metadata": {},
   "outputs": [],
   "source": [
    "# Impedancias a las tres secuencias [homopolar=0, directa=1 e inversa=2] del generador [pu]:\n",
    "Zg = np.array([0.04j,0.1j,0.08j])\n",
    "# Impedancias del transformador [pu]:\n",
    "Zt = np.array([0.12j,0.15j,0.15j])\n",
    "# Impedancias absolutas de la línea [pu]:\n",
    "Zl = np.array([0.20j,0.08j,0.08j])\n",
    "# Longitud de la línea [km]:\n",
    "l = 20\n",
    "# Impedancia de cortocircuito de la red [pu]:\n",
    "Ucc = 1\n",
    "Scc = 20\n",
    "Zcc = (Ucc**2/Scc)*1j\n",
    "Zred = np.array([Zcc,Zcc,Zcc])\n",
    "# Tensión del generador:\n",
    "E = 1\n",
    "# Desfase del transformador [deg]:\n",
    "Desf = -150 # Yd5.\n",
    "# Distancia de la falta a la barra 2 [km]:\n",
    "lf = 5\n",
    "# Impedancia de falta/contacto [pu]:\n",
    "Zf = 0.02j\n",
    "# Impedancia de puesta a tierra del neutro del generador [pu]:\n",
    "Zn = 0.03j"
   ]
  },
  {
   "cell_type": "markdown",
   "metadata": {},
   "source": [
    "### Redes de secuencia del sistema\n",
    "\n",
    "**Red de secuencia homopolar/cero (RSH):**\n",
    "\n",
    "<img src=\"./Figs/T06P02_Fig01.png\" width=85%>\n",
    "\n",
    "**Red de secuencia directa (RSD):**\n",
    "\n",
    "<img src=\"./Figs/T06P02_Fig02.png\" width=85%>\n",
    "\n",
    "**Red de secuencia inversa (RSI):**\n",
    "\n",
    "<img src=\"./Figs/T06P02_Fig03.png\" width=85%>"
   ]
  },
  {
   "cell_type": "markdown",
   "metadata": {},
   "source": [
    "### Cálculo de los equivalentes de Thévenin de las redes de secuencia en el punto de falta"
   ]
  },
  {
   "cell_type": "markdown",
   "metadata": {},
   "source": [
    "### Red de secuencia homopolar/cero (RSH)"
   ]
  },
  {
   "cell_type": "code",
   "execution_count": 121,
   "metadata": {},
   "outputs": [
    {
     "name": "stdout",
     "output_type": "stream",
     "text": [
      "Z0 = 0.0919j\n"
     ]
    }
   ],
   "source": [
    "# El equivalente entre el punto de falta y tierra es el resultado del paralelo de dos ramas: izquierda (Rama A0) y derecha (Rama B0).\n",
    "RamaA0 = Zt[0]+(lf/l)*Zl[0]\n",
    "RamaB0 = ((l-lf)/l)*Zl[0]+Zred[0]\n",
    "Z0 = RamaA0*RamaB0/(RamaA0+RamaB0)\n",
    "print('Z0 = {:.3}'.format(Z0))"
   ]
  },
  {
   "cell_type": "markdown",
   "metadata": {},
   "source": [
    "### Red de secuencia directa (RSD)"
   ]
  },
  {
   "cell_type": "code",
   "execution_count": 122,
   "metadata": {},
   "outputs": [
    {
     "name": "stdout",
     "output_type": "stream",
     "text": [
      "Z1 = 0.0782j\n"
     ]
    }
   ],
   "source": [
    "# Ídem que la RSH, teniendo en cuenta que la rama de la izquierda (Rama A1) llega hasta el generador.\n",
    "RamaA1 = Zg[1]+Zt[1]+(lf/l)*Zl[1]\n",
    "RamaB1 = ((l-lf)/l)*Zl[1]+Zred[1]\n",
    "Z1 = RamaA1*RamaB1/(RamaA1+RamaB1)\n",
    "print('Z1 = {:.3}'.format(Z1))"
   ]
  },
  {
   "cell_type": "markdown",
   "metadata": {},
   "source": [
    "Obsérvese que la fem de la RSD correspondería con la tensión del equivalente de Thévenin en el punto de análisis. **Nótese en este punto que NO se van a incluir los desfases introducidos por el transformador, los cuáles se tendrán en cuenta sólo a efectos de referirnos a magnitudes del generador**, es decir, a efectos prácticos:\n",
    "\n",
    "$$\\varepsilon^{Th}_1=1\\angle 0^\\circ.$$"
   ]
  },
  {
   "cell_type": "code",
   "execution_count": 123,
   "metadata": {},
   "outputs": [
    {
     "name": "stdout",
     "output_type": "stream",
     "text": [
      "E = 1.000\n"
     ]
    }
   ],
   "source": [
    "# FEM de la RSD: Tensión del equivalente de Thévenin en el punto de análisis.\n",
    "E = E\n",
    "print('E = {:.3f}'.format(E))"
   ]
  },
  {
   "cell_type": "markdown",
   "metadata": {},
   "source": [
    "### Red de secuencia inversa (RSI)"
   ]
  },
  {
   "cell_type": "code",
   "execution_count": 124,
   "metadata": {},
   "outputs": [
    {
     "name": "stdout",
     "output_type": "stream",
     "text": [
      "Z2 = 0.0764j\n"
     ]
    }
   ],
   "source": [
    "# Ídem que la RSD.\n",
    "RamaA2 = Zg[2]+Zt[2]+(lf/l)*Zl[2]\n",
    "RamaB2 = ((l-lf)/l)*Zl[2]+Zred[2]\n",
    "Z2 = RamaA2*RamaB2/(RamaA2+RamaB2)\n",
    "print('Z2 = {:.3}'.format(Z2))"
   ]
  },
  {
   "cell_type": "markdown",
   "metadata": {},
   "source": [
    "### Asociación de redes de secuencia (falta monofásica)\n",
    "\n",
    "Ante falta monofásica a tierra en el punto de falta $F$, las tres redes de secuencia deben asociarse en serie y considerar la impedancia de falta:\n",
    "\n",
    "<img src=\"./Figs/T06P02_Fig04.png\" width=85%>\n",
    "\n",
    "Considerando los equivalentes de Thévenin de las tres redes, el esquema queda simplificado:\n",
    "\n",
    "<img src=\"./Figs/T06P02_Fig05.png\" width=55%>"
   ]
  },
  {
   "cell_type": "code",
   "execution_count": 125,
   "metadata": {},
   "outputs": [
    {
     "name": "stdout",
     "output_type": "stream",
     "text": [
      "I012= [0.-3.263j 0.-3.263j 0.-3.263j]\n"
     ]
    }
   ],
   "source": [
    "# Como es falta monofásica, las tres redes se asocian en serie, y por lo tanto el cálculo de las corrientes de las tres redes de secuencia queda:\n",
    "Z012 = np.array([Z0,Z1,Z2])\n",
    "I0 = E/(Z012[0]+Z012[1]+Z012[2]+3*Zf)\n",
    "I1 = I0\n",
    "I2 = I0\n",
    "I012 = np.array([I0,I1,I2])\n",
    "print('I012=',I012)"
   ]
  },
  {
   "cell_type": "code",
   "execution_count": 126,
   "metadata": {},
   "outputs": [
    {
     "name": "stdout",
     "output_type": "stream",
     "text": [
      "U012= [-0.3  +0.j  0.745+0.j -0.249+0.j]\n"
     ]
    }
   ],
   "source": [
    "# Por su parte, el cálculo de las tensiones de las tres redes se obtendría mediante:\n",
    "U0 = -I012[0]*Z012[0]\n",
    "U1 = E-I012[1]*Z012[1]\n",
    "U2 = -I012[2]*Z012[2]\n",
    "U012 = np.array([U0,U1,U2])\n",
    "print('U012=',U012)"
   ]
  },
  {
   "cell_type": "markdown",
   "metadata": {},
   "source": [
    "Ante la falta anterior, la corriente circulante por el neutro del transformador sería igual a la suma vectorial de las corrientes de las tres fases, o lo que es lo mismo, tres veces la corriente homopolar en dicho elemento, que en este caso sería la contribución de la rama de la izquierda (Rama A0) a la corriente homopolar calculada:\n",
    "\n",
    "$$\\mathcal{I}_n^T=\\mathcal{I}_R+\\mathcal{I}_S+\\mathcal{I}_T=3\\mathcal{I}_0^T=3\\mathcal{I}_0^A.$$"
   ]
  },
  {
   "cell_type": "code",
   "execution_count": 127,
   "metadata": {},
   "outputs": [
    {
     "name": "stdout",
     "output_type": "stream",
     "text": [
      "La corriente por el neutro del transformador será 5.292 pu\n"
     ]
    }
   ],
   "source": [
    "# Obtenemos la corriente homopolar del transformador mediante un divisor de intensidades:\n",
    "It0 = (RamaB0/(RamaA0+RamaB0))*I012[0]\n",
    "In = 3*It0\n",
    "print('La corriente por el neutro del transformador será',round(np.abs(In),3),'pu')"
   ]
  },
  {
   "cell_type": "markdown",
   "metadata": {},
   "source": [
    "Por otro lado, la tensión en bornes del generador, es decir, la tensión en la barra 1, se puede obtener mediante la transformación al dominio de fases de las componentes simétricas de la tensión en dicha barra (ante la situación de falta estudiada). Para ello:\n",
    "\n",
    "1. Determinaremos las componentes simétricas de la tensión en la barra 1, las cuáles obtendremos a partir de las componentes simétricas de las corrientes en el generador y las respectivas caídas de tensión en su impedancia interna:\n",
    "\n",
    "$$\\mathcal{U}^g_1=\\mathcal{E}-\\mathcal{I}_1^A\\mathcal{Z}_1^g.$$\n",
    "\n",
    "$$\\mathcal{U}^g_2=-\\mathcal{I}_2^A\\mathcal{Z}_2^g.$$\n",
    "\n",
    "$$\\mathcal{U}^g_0=-\\mathcal{I}_0^A\\mathcal{Z}_0^g.$$\n",
    "\n",
    "2. Transformación al dominio de fases de las componentes simétricas de la tensión mediante la Matriz de Fortescue ($\\left[T\\right]$):\n",
    "\n",
    "$$\\left[\\mathcal{U}_{RST}^g\\right]=\\left[T\\right]\\left[\\mathcal{U}_{012}^g\\right].$$\n",
    "\n",
    "**NOTA IMPORTANTE:** Obsérvese que el transformador tiene un índice horario no nulo, lo que significa que introduce un desfase en la RSD, y la opuesta en la RSI. Así, para valores a partir del secundario del transformador, el desfase introducido (en este caso de valor $\\alpha=-150^\\circ$) debe sumarse en la RSD, mientras que debe restarse en la RSI:\n",
    "\n",
    "$$\\mathcal{U}^{bus1}_1=\\mathcal{U}^{bus2}_1e^{-j150^\\circ}.$$\n",
    "\n",
    "$$\\mathcal{U}^{bus1}_2=\\mathcal{U}^{bus2}_2e^{j150^\\circ}.$$\n",
    "\n",
    "**NOTA 2:** Para saber el sentido en el cual aplicar el desfase, obsérvese en este caso que la tensión en el secundario (bus 1) está atrasada 150 grados ($\\phi-150^\\circ$) respecto al primario (bus 2)."
   ]
  },
  {
   "cell_type": "code",
   "execution_count": 135,
   "metadata": {},
   "outputs": [
    {
     "name": "stdout",
     "output_type": "stream",
     "text": [
      "Ug012= [ 0.   +0.j    -0.722-0.417j -0.121+0.07j ]\n"
     ]
    }
   ],
   "source": [
    "## Componentes simétricas de la tensión en la barra 1\n",
    "# Componente homopolar:\n",
    "Ug0 = 0\n",
    "# Componente directa:\n",
    "It1 = (RamaB1/(RamaA1+RamaB1))*I012[1]\n",
    "Ug1 = E-It1*Zg[1]\n",
    "# Aplico el desfase del transformador:\n",
    "Ug1 = Ug1*cm.rect(1,Desf*cm.pi/180)\n",
    "# Componente inversa:\n",
    "It2 = (RamaB2/(RamaA2+RamaB2))*I012[2]\n",
    "Ug2 = -It2*Zg[2]\n",
    "# Aplico el desfase del transformador:\n",
    "Ug2 = Ug2*cm.rect(1,-Desf*cm.pi/180)\n",
    "# Componentes simétricas de la tensión en bornes del generador:\n",
    "Ug012 = np.array([Ug0,Ug1,Ug2])\n",
    "print('Ug012=',Ug012)"
   ]
  },
  {
   "cell_type": "markdown",
   "metadata": {},
   "source": [
    "De forma alternativa, se podría haber considerado en la resolución que la fem del generador y de la red tienen fase nula, es decir:\n",
    "\n",
    "$$\\varepsilon^g=\\varepsilon^{red}=1\\angle 0^\\circ \\mbox{pu},$$\n",
    "y por lo tanto, considerando el desfase del transformador:\n",
    "\n",
    "$$\\varepsilon^{Th}_1=1\\angle 0^\\circ \\mbox {pu} \\cdot 1\\angle 150^\\circ = 1 \\angle 150^\\circ \\mbox{pu}.$$\n",
    "\n",
    "Si se considera así, el cálculo de la tensión en bornes del generador ya no requeriría aplicar el desfase del transformador a las componentes de la tensión directa e inversa, pues ya habrían sido calculadas teniendo en cuenta el desfase. La siguiente celda demuestra que el resultado que se obtendría sería el mismo."
   ]
  },
  {
   "cell_type": "code",
   "execution_count": 129,
   "metadata": {},
   "outputs": [
    {
     "name": "stdout",
     "output_type": "stream",
     "text": [
      "E = (-0.866+0.5j)\n",
      "Ug012= [ 0.   +0.j    -0.784+0.453j  0.069-0.04j ]\n"
     ]
    }
   ],
   "source": [
    "# Aplicamos el desfase del transformador a la fem de la fuente equivalente:\n",
    "E = 1*cm.rect(1,-Desf*cm.pi/180)\n",
    "print('E = {:.3}'.format(E))\n",
    "\n",
    "# Recalculamos las corrientes y tensiones en el punto de falta:\n",
    "I0 = E/(Z012[0]+Z012[1]+Z012[2]+3*Zf)\n",
    "I1 = I0\n",
    "I2 = I0\n",
    "I012 = np.array([I0,I1,I2])\n",
    "\n",
    "U0 = -I012[0]*Z012[0]\n",
    "U1 = E-I012[1]*Z012[1]\n",
    "U2 = -I012[2]*Z012[2]\n",
    "U012 = np.array([U0,U1,U2])\n",
    "\n",
    "## Calculamos las componentes simétricas de la tensión en bornes del generador:\n",
    "# Componente homopolar:\n",
    "Ug0 = 0\n",
    "# Componente directa:\n",
    "It1 = (RamaB1/(RamaA1+RamaB1))*I012[1]\n",
    "Ug1 = E-It1*Zg[1]\n",
    "# Componente inversa:\n",
    "It2 = (RamaB2/(RamaA2+RamaB2))*I012[2]\n",
    "Ug2 = -It2*Zg[2]\n",
    "# Componentes simétricas de la tensión en bornes del generador:\n",
    "Ug012 = np.array([Ug0,Ug1,Ug2])\n",
    "print('Ug012=',Ug012)"
   ]
  },
  {
   "cell_type": "code",
   "execution_count": 130,
   "metadata": {},
   "outputs": [
    {
     "name": "stdout",
     "output_type": "stream",
     "text": [
      "Tensión en bornes del generador (coordenadas rectangulares): [-0.715+0.413j  0.784+0.533j -0.069-0.945j]\n",
      "Tensión en bornes del generador (coordenadas polares): [[  0.826 150.   ]\n",
      " [  0.948  34.179]\n",
      " [  0.948 -94.179]]\n"
     ]
    }
   ],
   "source": [
    "## Transformación de las componentes simétricas a las componentes de fase (cambio de base)\n",
    "# Matriz de Fortescue-Stovkis\n",
    "a = cm.rect(1,120*cm.pi/180)\n",
    "T = np.array([[1,1,1],[1,a**2,a],[1,a,a**2]])\n",
    "UgRST = np.dot(T,np.transpose(Ug012))\n",
    "print('Tensión en bornes del generador (coordenadas rectangulares):',UgRST)\n",
    "# Tensión en bornes del generador en coordenadas polares:\n",
    "UgRSTpolar = np.zeros([3,2])\n",
    "for i in range(0,3):\n",
    "    UgRSTpolar[i] = cm.polar(UgRST[i])\n",
    "    UgRSTpolar[i][1] = UgRSTpolar[i][1]*180/cm.pi\n",
    "print('Tensión en bornes del generador (coordenadas polares):',UgRSTpolar)"
   ]
  },
  {
   "cell_type": "markdown",
   "metadata": {},
   "source": [
    "### Asociación de redes de secuencia (falta bifásica)\n",
    "\n",
    "Ante falta bifásica aislada en el punto de falta $F$, las tres redes de secuencia deben asociarse en paralelo y considerar la impedancia de contacto. Como la falta es aislada de tierra, puede observase que la RSH queda igualmente aislada (en circuito abierto). Considerando los equivalentes de Thévenin de las tres redes, el esquema queda simplificado:\n",
    "\n",
    "<img src=\"./Figs/T06P02_Fig06.png\" width=55%>"
   ]
  },
  {
   "cell_type": "markdown",
   "metadata": {},
   "source": [
    "Ante la falta bifásica descrita, se deduce que la corriente de la RSH es nula, y las corrientes de las RSD y RSI son iguales y opuestas en signo y se calculan fácilmente como:\n",
    "\n",
    "$$\\mathcal{I}_1^F=-\\mathcal{I}_2^F=\\displaystyle\\frac{\\mathcal{E}_1^{Th}}{X_1^{Th}+X_c+X_2^{Th}}.$$"
   ]
  },
  {
   "cell_type": "code",
   "execution_count": 131,
   "metadata": {},
   "outputs": [
    {
     "name": "stdout",
     "output_type": "stream",
     "text": [
      "I012= [ 0.+0.j     0.-5.729j -0.+5.729j]\n"
     ]
    }
   ],
   "source": [
    "E = 1\n",
    "I0 = 0\n",
    "I1 = E/(Z012[1]+Z012[2]+Zf)\n",
    "I2 = -I1\n",
    "I012 = np.array([I0,I1,I2])\n",
    "print('I012=',I012)"
   ]
  },
  {
   "cell_type": "markdown",
   "metadata": {},
   "source": [
    "De forma análoga, la tensión de la RSH resulta inmediata al estar en circuito abierto y no existir f.e.m. en esta secuencia, mientras que las tensiones de las RSD y RSI se obtienen como:\n",
    "\n",
    "$$\\mathcal{U}^F_1=\\mathcal{E}^{Th}_1-\\mathcal{I}_1\\mathcal{Z}_1.$$\n",
    "\n",
    "$$\\mathcal{U}^F_2=-\\mathcal{I}_2\\mathcal{Z}_2.$$"
   ]
  },
  {
   "cell_type": "code",
   "execution_count": 132,
   "metadata": {},
   "outputs": [
    {
     "name": "stdout",
     "output_type": "stream",
     "text": [
      "U012= [0.   +0.j 0.552+0.j 0.438+0.j]\n"
     ]
    }
   ],
   "source": [
    "U0 = 0\n",
    "U1 = E-I012[1]*Z012[1]\n",
    "U2 = -I012[2]*Z012[2]\n",
    "U012 = np.array([U0,U1,U2])\n",
    "print('U012=',U012)"
   ]
  },
  {
   "cell_type": "code",
   "execution_count": 133,
   "metadata": {},
   "outputs": [
    {
     "name": "stdout",
     "output_type": "stream",
     "text": [
      "Corriente en el punto de falta (coordenadas polares): [[  0.      0.   ]\n",
      " [  9.923 180.   ]\n",
      " [  9.923  -0.   ]]\n",
      "Tensión en el punto de falta (coordenadas polares): [[   0.99     0.   ]\n",
      " [   0.505 -168.663]\n",
      " [   0.505  168.663]]\n"
     ]
    }
   ],
   "source": [
    "## Transformación de las componentes simétricas a las componentes de fase (cambio de base)\n",
    "# Corrientes:\n",
    "IRST = np.dot(T,np.transpose(I012))\n",
    "IRSTpolar = np.zeros([3,2])\n",
    "for i in range(0,3):\n",
    "    IRSTpolar[i] = cm.polar(IRST[i])\n",
    "    IRSTpolar[i][1] = IRSTpolar[i][1]*180/cm.pi\n",
    "print('Corriente en el punto de falta (coordenadas polares):',IRSTpolar)\n",
    "# Tensiones:\n",
    "URST = np.dot(T,np.transpose(U012))\n",
    "URSTpolar = np.zeros([3,2])\n",
    "for i in range(0,3):\n",
    "    URSTpolar[i] = cm.polar(URST[i])\n",
    "    URSTpolar[i][1] = URSTpolar[i][1]*180/cm.pi\n",
    "print('Tensión en el punto de falta (coordenadas polares):',URSTpolar)"
   ]
  }
 ],
 "metadata": {
  "kernelspec": {
   "display_name": "Python 3",
   "language": "python",
   "name": "python3"
  },
  "language_info": {
   "codemirror_mode": {
    "name": "ipython",
    "version": 3
   },
   "file_extension": ".py",
   "mimetype": "text/x-python",
   "name": "python",
   "nbconvert_exporter": "python",
   "pygments_lexer": "ipython3",
   "version": "3.7.3"
  }
 },
 "nbformat": 4,
 "nbformat_minor": 2
}
