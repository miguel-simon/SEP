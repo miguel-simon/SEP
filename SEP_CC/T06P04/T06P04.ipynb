{
 "cells": [
  {
   "cell_type": "markdown",
   "metadata": {},
   "source": [
    "# T06P04 - MdSM"
   ]
  },
  {
   "cell_type": "markdown",
   "metadata": {},
   "source": [
    "## Enunciado\n",
    "\n",
    "Ante un fallo fase-fase-tierra (bifásico a tierra) en a barra 6 de la figura calcule la tensión en la barra 5 y la corriente por el neutro del transformador T1.\n",
    "\n",
    "Tome como datos:\n",
    "\n",
    "- Generadores G1, G2: $X_0=0.09\\mbox{ pu}$, $X_1=X_2=0.35\\mbox{ pu}$.\n",
    "- Transformadores T1 y T2: $X_0=X_1=X_2=X_{cc}=0.05\\mbox{ pu}$.\n",
    "- Transformador T3: $X_0=X_1=X_2=X_{cc}=0.03\\mbox{ pu}$.\n",
    "- Línea L42: $X_0=1.80\\mbox{ pu}$, $X_1=X_2=0.45\\mbox{ pu}$.\n",
    "- Líneas L25 y L45: $X_0=1.15\\mbox{ pu}$, $X_1=X_2=0.35\\mbox{ pu}$.\n",
    "\n",
    "**Sistema eléctrico:**\n",
    "\n",
    "![Esquema del sistema](T06P04_Fig00.png)"
   ]
  },
  {
   "cell_type": "markdown",
   "metadata": {},
   "source": [
    "## Resolución"
   ]
  },
  {
   "cell_type": "code",
   "execution_count": 9,
   "metadata": {},
   "outputs": [],
   "source": [
    "# Importar librerías genéricas:\n",
    "import numpy as np\n",
    "import cmath as cm\n",
    "import matplotlib.pyplot as plt\n",
    "\n",
    "# Formato general de salida de resultados numéricos:\n",
    "np.set_printoptions(precision=3, suppress=True)"
   ]
  },
  {
   "cell_type": "markdown",
   "metadata": {},
   "source": [
    "### Hipótesis\n",
    "\n",
    "1. Dado que no se especifican los índices horarios de los transformadores, estos se despreciarán.\n",
    "\n",
    "2. Dado que no se especifica el valor de la impedancia de falta a tierra, ni de la impedancia de contacto entre fases, se tomará como defecto franco o rígido tanto entre fases como con tierra.\n",
    "\n",
    "3. Todas las impedancias de puesta a tierra de neutro que no se especifiquen se considerarán nulas (puesta a tierra rígida)."
   ]
  },
  {
   "cell_type": "markdown",
   "metadata": {},
   "source": [
    "### Datos del problema"
   ]
  },
  {
   "cell_type": "code",
   "execution_count": 10,
   "metadata": {},
   "outputs": [],
   "source": [
    "# Impedancias a las tres secuencias [homopolar=0, directa=1 e inversa=2] del generador G1 [pu]:\n",
    "Zg1 = np.array([0.09j,0.35j,0.35j])\n",
    "# Impedancia de puesta a tierra del neutro del generador G1 [pu]:\n",
    "Zng1 = 0\n",
    "# Impedancias a las tres secuencias del generador G2 [pu]:\n",
    "Zg2 = Zg1\n",
    "# Impedancia de puesta a tierra del neutro del generador G2 [pu]:\n",
    "Zng2 = 0.03j\n",
    "# Impedancias del transformador T1 [pu]:\n",
    "Zt1 = np.array([0.05j,0.05j,0.05j])\n",
    "# Impedancias del transformador T2 [pu]:\n",
    "Zt2 = Zt1\n",
    "# Impedancias del transformador T3 [pu]:\n",
    "Zt3 = np.array([0.03j,0.03j,0.03j])\n",
    "# Impedancias absolutas de la línea L25 [pu]:\n",
    "Zl25 = np.array([1.15j,0.35j,0.35j])\n",
    "# Impedancias absolutas de la línea L42 [pu]:\n",
    "Zl42 = np.array([1.80j,0.45j,0.45j])\n",
    "# Impedancias absolutas de la línea L45 [pu]:\n",
    "Zl45 = Zl25\n",
    "# Tensión del generador:\n",
    "E = 1\n",
    "# Desfase del transformador T1 [deg]:\n",
    "DesfT1 = 0\n",
    "# Desfase del transformador T2 [deg]:\n",
    "DesfT2 = 0\n",
    "# Desfase del transformador T3 [deg]:\n",
    "DesfT3 = 0"
   ]
  },
  {
   "cell_type": "markdown",
   "metadata": {},
   "source": [
    "### Redes de secuencia del sistema\n",
    "\n",
    "**Red de secuencia homopolar/cero (RSH):**\n",
    "\n",
    "![Red de secuencia homopolar](T06P04_Fig01.png)\n",
    "\n",
    "**Red de secuencia directa (RSD):**\n",
    "\n",
    "![Red de secuencia directa](T06P04_Fig02.png)\n",
    "\n",
    "**Red de secuencia inversa (RSI):**\n",
    "\n",
    "![Red de secuencia inversa](T06P04_Fig03.png)"
   ]
  },
  {
   "cell_type": "markdown",
   "metadata": {},
   "source": [
    "### Cálculo de los equivalentes de Thévenin de las redes de secuencia en el nudo 6"
   ]
  },
  {
   "cell_type": "markdown",
   "metadata": {},
   "source": [
    "### Red de secuencia homopolar/cero (RSH)"
   ]
  },
  {
   "cell_type": "code",
   "execution_count": 11,
   "metadata": {},
   "outputs": [
    {
     "name": "stdout",
     "output_type": "stream",
     "text": [
      "Z0 = 9e+99j\n"
     ]
    }
   ],
   "source": [
    "# Dado el grupo de conexión del transformador T3, la impedancia del equivalente de Thévenin para la RSH es infinita (el circuito está abierto).\n",
    "Z0 = 9E99j\n",
    "print('Z0 = {:.3}'.format(Z0))"
   ]
  },
  {
   "cell_type": "markdown",
   "metadata": {},
   "source": [
    "### Red de secuencia directa (RSD)"
   ]
  },
  {
   "cell_type": "code",
   "execution_count": 12,
   "metadata": {},
   "outputs": [
    {
     "name": "stdout",
     "output_type": "stream",
     "text": [
      "Z1 = 0.405j\n"
     ]
    }
   ],
   "source": [
    "# Rama A1: Desde el neutro de G1 hasta el bus 2.\n",
    "RamaA1 = Zg1[1]+Zt1[1]\n",
    "# Rama B1: Desde el neutro de G2 hasta el bus 4.\n",
    "RamaB1 = Zg2[1]+Zt2[1]\n",
    "# Transformación TRIÁNGULO > ESTRELLA de las líneas de enlace:\n",
    "Z2n=np.zeros(3,dtype=np.complex_)\n",
    "Z4n=np.zeros(3,dtype=np.complex_)\n",
    "Z5n=np.zeros(3,dtype=np.complex_)\n",
    "Z2n[1] = Zl25[1]*Zl42[1]/(Zl25[1]+Zl42[1]+Zl45[1])\n",
    "Z4n[1] = Zl42[1]*Zl45[1]/(Zl25[1]+Zl42[1]+Zl45[1])\n",
    "Z5n[1] = Zl25[1]*Zl45[1]/(Zl25[1]+Zl42[1]+Zl45[1])\n",
    "# Paralelo de las ramas A1 y B1 con las impedancias Z2n1 y Z4n1 en serie respectivamente, y el resultado a su vez en serie con las impedancias Z5n1 y Zt1[1]:\n",
    "Z1 = Zt3[1]+Z5n[1]+(RamaA1+Z2n[1])*(RamaB1+Z4n[1])/(RamaA1+Z2n[1]+RamaB1+Z4n[1])\n",
    "print('Z1 = {:.3}'.format(Z1))"
   ]
  },
  {
   "cell_type": "markdown",
   "metadata": {},
   "source": [
    "**Transformación triángulo > estrella:**\n",
    "\n",
    "![Transformación Triángulo - Estrella](T06P04_Fig06.png)"
   ]
  },
  {
   "cell_type": "markdown",
   "metadata": {},
   "source": [
    "### Red de secuencia inversa (RSI)"
   ]
  },
  {
   "cell_type": "code",
   "execution_count": 13,
   "metadata": {},
   "outputs": [
    {
     "name": "stdout",
     "output_type": "stream",
     "text": [
      "Z2 = 0.405j\n"
     ]
    }
   ],
   "source": [
    "# Ídem que la RSD.\n",
    "RamaA2 = Zg1[2]+Zt1[2]\n",
    "RamaB2 = Zg2[2]+Zt2[2]\n",
    "\n",
    "Z2n[2] = Zl25[2]*Zl42[2]/(Zl25[2]+Zl42[2]+Zl45[2])\n",
    "Z4n[2] = Zl42[2]*Zl45[2]/(Zl25[2]+Zl42[2]+Zl45[2])\n",
    "Z5n[2] = Zl25[2]*Zl45[2]/(Zl25[2]+Zl42[2]+Zl45[2])\n",
    "# Paralelo de las ramas A1 y B1 con las impedancias Z2n1 y Z4n1 en serie respectivamente, y el resultado a su vez en serie con las impedancias Z5n1 y Zt1[1]:\n",
    "Z2 = Zt3[2]+Z5n[2]+(RamaA2+Z2n[2])*(RamaB2+Z4n[2])/(RamaA2+Z2n[2]+RamaB2+Z4n[2])\n",
    "print('Z2 = {:.3}'.format(Z2))"
   ]
  },
  {
   "cell_type": "markdown",
   "metadata": {},
   "source": [
    "### Asociación de redes de secuencia (falta bifásica a tierra)\n",
    "\n",
    "Ante falta bifásica a tierra en la barra 6, las tres redes de secuencia deben asociarse en paralelo y, en este caso, dado que no se especifica, considerar tanto la impedancia de contacto entre fases, como la impedancia de falta despreciables.\n",
    "\n",
    "Considerando los equivalentes de Thévenin de las tres redes, el esquema queda simplificado:\n",
    "\n",
    "![Asociación de redes de secuencia falta bifásica a tierra con equivalentes de Thévenin](T06P04_Fig04.png)"
   ]
  },
  {
   "cell_type": "code",
   "execution_count": 14,
   "metadata": {},
   "outputs": [
    {
     "name": "stdout",
     "output_type": "stream",
     "text": [
      "I012 =  [0.+0.j    0.-1.235j 0.+1.235j]\n",
      "U012 =  [0.5-0.j 0.5+0.j 0.5-0.j]\n"
     ]
    }
   ],
   "source": [
    "# Componentes simétricas de la impedancia del equivalente de Thévenin.\n",
    "Z012 = np.array([Z0,Z1,Z2])\n",
    "# Cálculo de las componentes simétricas de la corriente.\n",
    "I1 = E/(Z012[1]+Z012[0]*Z012[2]/(Z012[0]+Z012[2]))\n",
    "I2 = -I1*Z012[0]/(Z012[0]+Z012[2])\n",
    "I0 = -I1*Z012[2]/(Z012[0]+Z012[2])\n",
    "I012 = np.array([I0,I1,I2])\n",
    "print('I012 = ',I012)\n",
    "# Cálculo de las componentes simétricas de la tensión.\n",
    "U0 = -I0*Z012[0]\n",
    "U1 = E-I1*Z012[1]\n",
    "U2 = -I2*Z012[2]\n",
    "U012 = np.array([U0,U1,U2])\n",
    "print('U012 = ',U012)"
   ]
  },
  {
   "cell_type": "markdown",
   "metadata": {},
   "source": [
    "Una vez determinadas las corrientes y tensiones para cada una de las redes de secuencia en el punto de falta se debe determinar las componentes simétricas de las variables deseadas. Para ello se deberá aplicar el **TEOREMA DE SUSTITUCIÓN** por el cual, en cada una de las redes de secuencia, se sustituirá la falta por una fuente de intensidad (o de tensión si se prefiere) equivalente a la corriente (o tensión) producida por la falta. Una vez sustituida la falta por su equivalente se operará el circuito hasta despejar la variable deseada y, finalmente, se obtendrán los valores en el dominio de fases mediante el cambio de base usando la Matriz de Fortescue ($\\left[T\\right]$).\n",
    "\n",
    "![Aplicación del Teorema de Sustitución](T06P04_Fig05.png)"
   ]
  },
  {
   "cell_type": "markdown",
   "metadata": {},
   "source": [
    "### Tensión en la barra 5 ante falta bifásica rígida a tierra en la barra 6"
   ]
  },
  {
   "cell_type": "code",
   "execution_count": 15,
   "metadata": {},
   "outputs": [
    {
     "name": "stdout",
     "output_type": "stream",
     "text": [
      "U012_bus5 [pu] = [0.   +0.j 0.537+0.j 0.463+0.j]\n",
      "URST_bus5 [pu] = [[   1.       0.   ]\n",
      " [   0.504 -172.689]\n",
      " [   0.504  172.689]]\n"
     ]
    }
   ],
   "source": [
    "# Sustituimos el fallo por las fuentes de intensidad correspondientes y resolvemos el circuito resultante:\n",
    "U012_bus5=np.zeros(3,dtype=np.complex_)\n",
    "\n",
    "# RSD:\n",
    "# Calculamos la caída de tensión entre las barras 5 y 6 debida a la corriente de falta y la sumamos (cambiada de signo) a la tensión obtenida de la barra 6.\n",
    "U012_bus5[1] = U012[1]+I012[1]*Zt3[1]\n",
    "\n",
    "# RSI:\n",
    "# Ídem que RSD:\n",
    "U012_bus5[2] = U012[2]+I012[2]*Zt3[2]\n",
    "\n",
    "# RSH:\n",
    "# Al ser un grupo de conexión Yyn, la impedancia homopolar equivalente entre los nudos 5 y 6 es infinita y, al no contar con fuentes de tensión homopolar en el otro lado del nudo, la tensión es nula:\n",
    "U012_bus5[0] = 0\n",
    "\n",
    "# Componentes simétricas de la tensión en la barra 5:\n",
    "print('U012_bus5 [pu] =',U012_bus5)\n",
    "\n",
    "# Tensión en la barra 5 en el dominio de fases:\n",
    "# Matriz de Fortescue-Stovkis\n",
    "a = cm.rect(1,120*cm.pi/180)\n",
    "T = np.array([[1,1,1],[1,a**2,a],[1,a,a**2]])\n",
    "URST_bus5 = np.dot(T,np.transpose(U012_bus5))\n",
    "# Transformación a coordenadas polares:\n",
    "URST_bus5polar = np.zeros([3,2])\n",
    "for i in range(0,3):\n",
    "    URST_bus5polar[i] = cm.polar(URST_bus5[i])\n",
    "    URST_bus5polar[i][1] = URST_bus5polar[i][1]*180/cm.pi\n",
    "print('URST_bus5 [pu] =',URST_bus5polar)"
   ]
  },
  {
   "cell_type": "markdown",
   "metadata": {},
   "source": [
    "### Corriente por el neutro del transformador T1 ante falta bifásica rígida a tierra en el bus 6"
   ]
  },
  {
   "cell_type": "code",
   "execution_count": 20,
   "metadata": {},
   "outputs": [
    {
     "name": "stdout",
     "output_type": "stream",
     "text": [
      "InT1 [pu] = 0.0\n"
     ]
    }
   ],
   "source": [
    "## La corriente que circula por el neutro del transformador T1 sería la componente homopolar de la corriente aplicando un divisor de intensidades.\n",
    "# RamaA0: desde la puesta a tierra de T1 hasta Z5n:\n",
    "RamaA0 = Zt1[0]+Z2n[0]\n",
    "# RamaB0: desde la puesta a tierra de G2 hasta Z5n:\n",
    "RamaB0 = 3*Zng2+Zg2[0]+Zt2[0]+Z4n[0]\n",
    "I0nT1 = I012[0]*RamaB0/(RamaA0+RamaB0)\n",
    "\n",
    "# Corriente por el neutro de T1 en el dominio de fases:\n",
    "InT1 = 3*I0nT1\n",
    "print('InT1 [pu] = {:.3}'.format(round(abs(InT1),2)))"
   ]
  },
  {
   "cell_type": "markdown",
   "metadata": {},
   "source": [
    "Dado el grupo de conexión del transformador T3 y ser el sistema de alimentación (generadores G1 y G2) equilibrado, no circula ninguna corriente homopolar aguas arriba del bus 6, por lo que no circularía ninguna corriente por el neutro del transformador T1."
   ]
  }
 ],
 "metadata": {
  "kernelspec": {
   "display_name": "Python 3",
   "language": "python",
   "name": "python3"
  },
  "language_info": {
   "codemirror_mode": {
    "name": "ipython",
    "version": 3
   },
   "file_extension": ".py",
   "mimetype": "text/x-python",
   "name": "python",
   "nbconvert_exporter": "python",
   "pygments_lexer": "ipython3",
   "version": "3.8.8"
  }
 },
 "nbformat": 4,
 "nbformat_minor": 2
}
