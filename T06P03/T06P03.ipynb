{
 "cells": [
  {
   "cell_type": "markdown",
   "metadata": {},
   "source": [
    "# T06P03 - MdSM"
   ]
  },
  {
   "cell_type": "markdown",
   "metadata": {},
   "source": [
    "## Enunciado\n",
    "\n",
    "La red de la figura incluye los datos expresados en valores pu para una misma base. Determine:\n",
    "\n",
    "1. Potencia de cortocircuito trifásica en el nudo 3.\n",
    "\n",
    "2. Intensidades  por las fases de la línea L1 tras una falta fase-fase en el nudo 2.\n",
    "\n",
    "3. Módulo de la intensidad por el neturo del transformador T1 (Yd5) durante la falta anterior.\n",
    "\n",
    "Tome como datos:\n",
    "\n",
    "- Generador: $X_0=0.05$, $X_1=X_2=0.10$.\n",
    "- Transformador T1 (Yd5): $X_0=0.10$, $X_1=X_2=0.12$.\n",
    "- Transformador T2 (Yy0): $X_0=X_1=X_2=X_{cc}=0.15$.\n",
    "- Línea L1: $X_0=0.16$, $X_1=X_2=0.04$.\n",
    "- Línea L2: $X_0=0.32$, $X_1=X_2=0.08$.\n",
    "\n",
    "**Sistema eléctrico:**\n",
    "\n",
    "<img src=\"./Figs/T06P03_Fig00.PNG\" width=85%>"
   ]
  },
  {
   "cell_type": "markdown",
   "metadata": {},
   "source": [
    "## Resolución"
   ]
  },
  {
   "cell_type": "code",
   "execution_count": 1,
   "metadata": {},
   "outputs": [],
   "source": [
    "# Importar librerías genéricas:\n",
    "import numpy as np\n",
    "import cmath as cm\n",
    "import matplotlib.pyplot as plt"
   ]
  },
  {
   "cell_type": "markdown",
   "metadata": {},
   "source": [
    "### Datos del problema"
   ]
  },
  {
   "cell_type": "code",
   "execution_count": 2,
   "metadata": {},
   "outputs": [],
   "source": [
    "# Impedancias a las tres secuencias [homopolar=0, directa=1 e inversa=2] del generador [pu]:\n",
    "Zg = np.array([0.05j,0.1j,0.1j])\n",
    "# Impedancia de puesta a tierra del neutro del generador [pu]:\n",
    "Zn = 0.03j\n",
    "# Impedancias del transformador T1 [pu]:\n",
    "Zt1 = np.array([0.1j,0.12j,0.12j])\n",
    "# Impedancias absolutas de la línea L1 [pu]:\n",
    "Zl1 = np.array([0.16j,0.04j,0.04j])\n",
    "# Impedancias absolutas de la línea L2 [pu]:\n",
    "Zl2 = np.array([0.32j,0.08j,0.08j])\n",
    "# Impedancias del transformador T2 [pu]:\n",
    "Zt2 = np.array([0.15j,0.15j,0.15j])\n",
    "# Impedancia de cortocircuito de la red [pu]:\n",
    "Ucc = 1\n",
    "Scc = 16\n",
    "Zcc = (Ucc**2/Scc)*1j\n",
    "Zred = np.array([Zcc,Zcc,Zcc])\n",
    "# Tensión del generador:\n",
    "E = 1\n",
    "# Desfase del transformador T1 [deg]:\n",
    "DesfT1 = 150\n",
    "# Desfase del transformador T2 [deg]:\n",
    "DesfT2 = 0"
   ]
  },
  {
   "cell_type": "markdown",
   "metadata": {},
   "source": [
    "### Redes de secuencia del sistema\n",
    "\n",
    "**Red de secuencia homopolar/cero (RSH):**\n",
    "\n",
    "<img src=\"./Figs/T06P03_Fig01.png\" width=85%>\n",
    "\n",
    "**Red de secuencia directa (RSD):**\n",
    "\n",
    "<img src=\"./Figs/T06P03_Fig02.png\" width=85%>\n",
    "\n",
    "**Red de secuencia inversa (RSI):**\n",
    "\n",
    "<img src=\"./Figs/T06P03_Fig03.png\" width=85%>"
   ]
  },
  {
   "cell_type": "markdown",
   "metadata": {},
   "source": [
    "### Cálculo de los equivalentes de Thévenin de las redes de secuencia en el nudo 3"
   ]
  },
  {
   "cell_type": "markdown",
   "metadata": {},
   "source": [
    "### Red de secuencia homopolar/cero (RSH)"
   ]
  },
  {
   "cell_type": "code",
   "execution_count": 3,
   "metadata": {},
   "outputs": [
    {
     "name": "stdout",
     "output_type": "stream",
     "text": [
      "Z0= 0.20666666666666667j\n"
     ]
    }
   ],
   "source": [
    "Z0 = Zt1[0]+((Zl1[0]*Zl2[0])/(Zl1[0]+Zl2[0]))\n",
    "print('Z0=',Z0)"
   ]
  },
  {
   "cell_type": "markdown",
   "metadata": {},
   "source": [
    "### Red de secuencia directa (RSD)"
   ]
  },
  {
   "cell_type": "code",
   "execution_count": 4,
   "metadata": {},
   "outputs": [
    {
     "name": "stdout",
     "output_type": "stream",
     "text": [
      "Z1= 0.11415607985480943j\n"
     ]
    }
   ],
   "source": [
    "# El equivalente entre el punto de análisis y tierra es el resultado del paralelo de dos ramas: izquierda (Rama A1) y derecha (Rama B1).\n",
    "RamaA1 = Zg[1]+Zt1[1]+((Zl1[1]*Zl2[1])/(Zl1[1]+Zl2[1]))\n",
    "RamaB1 = Zt2[1]+Zred[1]\n",
    "Z1 = RamaA1*RamaB1/(RamaA1+RamaB1)\n",
    "print('Z1=',Z1)"
   ]
  },
  {
   "cell_type": "markdown",
   "metadata": {},
   "source": [
    "### Red de secuencia inversa (RSI)"
   ]
  },
  {
   "cell_type": "code",
   "execution_count": 5,
   "metadata": {},
   "outputs": [
    {
     "name": "stdout",
     "output_type": "stream",
     "text": [
      "Z2= 0.11415607985480943j\n"
     ]
    }
   ],
   "source": [
    "# Ídem que la RSD.\n",
    "RamaA2 = Zg[2]+Zt1[2]+((Zl1[2]*Zl2[2])/(Zl1[2]+Zl2[2]))\n",
    "RamaB2 = Zt2[2]+Zred[2]\n",
    "Z2 = RamaA2*RamaB2/(RamaA2+RamaB2)\n",
    "print('Z2=',Z2)"
   ]
  },
  {
   "cell_type": "markdown",
   "metadata": {},
   "source": [
    "### Asociación de redes de secuencia (falta trifásica)\n",
    "\n",
    "Ante falta trifásica a tierra en la barra 3, las tres redes de secuencia están desacopladas:\n",
    "\n",
    "<img src=\"./Figs/T06P03_Fig04.png\" width=85%>\n",
    "\n",
    "Considerando los equivalentes de Thévenin de las tres redes, el esquema queda simplificado:\n",
    "\n",
    "<img src=\"./Figs/T06P03_Fig05.png\" width=45%>"
   ]
  },
  {
   "cell_type": "code",
   "execution_count": 6,
   "metadata": {},
   "outputs": [
    {
     "name": "stdout",
     "output_type": "stream",
     "text": [
      "I012 =  [0.+0.j         0.-8.75993641j 0.+0.j        ]\n",
      "U012 =  [0.+0.j 0.+0.j 0.+0.j]\n"
     ]
    }
   ],
   "source": [
    "# Como es falta trifásica, las tres redes están desacopladas, y por lo tanto el cálculo de las corrientes de las tres redes de secuencia queda:\n",
    "Z012 = np.array([Z0,Z1,Z2])\n",
    "I0 = 0\n",
    "I1 = E/Z012[1]\n",
    "I2 = 0\n",
    "I012 = np.array([I0,I1,I2])\n",
    "print('I012 = ',I012)\n",
    "U0 = 0\n",
    "U1 = E-I1*Z012[1]\n",
    "U2 = 0\n",
    "U012 = np.array([U0,U1,U2])\n",
    "print('U012 = ',U012)"
   ]
  },
  {
   "cell_type": "code",
   "execution_count": 7,
   "metadata": {},
   "outputs": [
    {
     "name": "stdout",
     "output_type": "stream",
     "text": [
      "IRST =  [ 0.        -8.75993641j -7.58632746+4.3799682j   7.58632746+4.3799682j ]\n",
      "Corriente de falta (coordenadas polares): [[  8.75993641 -90.        ]\n",
      " [  8.75993641 150.        ]\n",
      " [  8.75993641  30.        ]]\n",
      "URST =  [0.+0.j 0.+0.j 0.+0.j]\n",
      "Tensiones en el punto de falta (coordenadas polares): [[0. 0.]\n",
      " [0. 0.]\n",
      " [0. 0.]]\n"
     ]
    }
   ],
   "source": [
    "## Transformación de las componentes simétricas a las componentes de fase (cambio de base)\n",
    "# Matriz de Fortescue-Stovkis\n",
    "a = cm.rect(1,120*cm.pi/180)\n",
    "T = np.array([[1,1,1],[1,a**2,a],[1,a,a**2]])\n",
    "# Corriente de falta en coordenadas rectangulares:\n",
    "IRST = np.dot(T,np.transpose(I012))\n",
    "print('IRST = ',IRST)\n",
    "# Corriente de falta en coordenadas polares:\n",
    "IRSTpolar=np.zeros([3,2])\n",
    "for i in range(0,3):\n",
    "    IRSTpolar[i] = cm.polar(IRST[i])\n",
    "    IRSTpolar[i][1] = IRSTpolar[i][1]*180/cm.pi\n",
    "print('Corriente de falta (coordenadas polares):',IRSTpolar)\n",
    "# Tensiones en el punto de falta en coordenadas rectangulares:\n",
    "URST = np.dot(T,np.transpose(U012))\n",
    "print('URST = ',URST)\n",
    "# Tensiones en el punto de falta en coordenadas polares:\n",
    "URSTpolar=np.zeros([3,2])\n",
    "for i in range(0,3):\n",
    "    URSTpolar[i] = cm.polar(URST[i])\n",
    "    URSTpolar[i][1] = URSTpolar[i][1]*180/cm.pi\n",
    "print('Tensiones en el punto de falta (coordenadas polares):',URSTpolar)"
   ]
  },
  {
   "cell_type": "markdown",
   "metadata": {},
   "source": [
    "Una vez con las magnitudes en valores reales, la potencia de cortocircuito trifásica se determina mediante:\n",
    "\n",
    "$$\\mathcal{S}_{cc}=\\mathcal{E}\\mathcal{I}_{R}^*+\\mathcal{a}^2\\mathcal{E}\\mathcal{I}_{S}^*+\\mathcal{a}\\mathcal{E}\\mathcal{I}_{T}^*.$$\n",
    "\n",
    "En el caso de falta trifásica, dado que las corrientes de falta en las tres fases son iguales, se puede calcular también como:\n",
    "\n",
    "$$\\mathcal{S}_{cc}=3\\mathcal{E}\\mathcal{I}_{R}^*.$$\n",
    "\n",
    "Y se debe verificar que es igual a la suma de las potencias en el dominio de las componentes simétricas, es decir:\n",
    "\n",
    "$$\\mathcal{S}_{cc}=3\\mathcal{E}\\mathcal{I}_{1}^*.$$"
   ]
  },
  {
   "cell_type": "code",
   "execution_count": 8,
   "metadata": {},
   "outputs": [
    {
     "name": "stdout",
     "output_type": "stream",
     "text": [
      "Potencia de cortocircuito trifásica en la barra 3: 26.279809220985697 pu\n",
      "Potencia de cortocircuito trifásica en la barra 3 (coord. sim.): 26.279809220985697 pu\n"
     ]
    }
   ],
   "source": [
    "# Potencia de cortocircuito (trifásica) en la barra 3 calculada mediante las componentes de fase:\n",
    "Scc3 = 3*E*IRST[0].conjugate()\n",
    "print('Potencia de cortocircuito trifásica en la barra 3:',abs(Scc3),'pu')\n",
    "# Potencia de cortocircuito (trifásica) en la barra 3 calculada mediante las componentes simétricas:\n",
    "Scc3sim = 3*E*I012[1].conjugate()\n",
    "print('Potencia de cortocircuito trifásica en la barra 3 (coord. sim.):',abs(Scc3sim),'pu')"
   ]
  },
  {
   "cell_type": "markdown",
   "metadata": {},
   "source": [
    "### Cálculo de los equivalentes de Thévenin de las redes de secuencia en el nudo 2"
   ]
  },
  {
   "cell_type": "markdown",
   "metadata": {},
   "source": [
    "### Red de secuencia homopolar/cero (RSH)"
   ]
  },
  {
   "cell_type": "code",
   "execution_count": 9,
   "metadata": {},
   "outputs": [
    {
     "name": "stdout",
     "output_type": "stream",
     "text": [
      "Z0= 0.1j\n"
     ]
    }
   ],
   "source": [
    "Z0 = Zt1[0]\n",
    "print('Z0=',Z0)"
   ]
  },
  {
   "cell_type": "markdown",
   "metadata": {},
   "source": [
    "### Red de secuencia directa (RSD)"
   ]
  },
  {
   "cell_type": "code",
   "execution_count": 10,
   "metadata": {},
   "outputs": [
    {
     "name": "stdout",
     "output_type": "stream",
     "text": [
      "Z1= 0.11459165154264972j\n"
     ]
    }
   ],
   "source": [
    "# El equivalente entre el punto de análisis y tierra es el resultado del paralelo de dos ramas: izquierda (Rama A1) y derecha (Rama B1).\n",
    "RamaA1 = Zg[1]+Zt1[1]\n",
    "RamaB1 = +((Zl1[1]*Zl2[1])/(Zl1[1]+Zl2[1]))+Zt2[1]+Zred[1]\n",
    "Z1 = RamaA1*RamaB1/(RamaA1+RamaB1)\n",
    "print('Z1=',Z1)"
   ]
  },
  {
   "cell_type": "markdown",
   "metadata": {},
   "source": [
    "### Red de secuencia inversa (RSI)"
   ]
  },
  {
   "cell_type": "code",
   "execution_count": 11,
   "metadata": {},
   "outputs": [
    {
     "name": "stdout",
     "output_type": "stream",
     "text": [
      "Z2= 0.11459165154264972j\n"
     ]
    }
   ],
   "source": [
    "# Ídem que la RSD.\n",
    "RamaA2 = Zg[2]+Zt1[2]\n",
    "RamaB2 = ((Zl1[2]*Zl2[2])/(Zl1[2]+Zl2[2]))+Zt2[2]+Zred[2]\n",
    "Z2 = RamaA2*RamaB2/(RamaA2+RamaB2)\n",
    "print('Z2=',Z2)"
   ]
  },
  {
   "cell_type": "markdown",
   "metadata": {},
   "source": [
    "### Asociación de redes de secuencia (falta bifásica aislada)\n",
    "\n",
    "Ante falta bifásica aislada en la barra 2, las tres redes de secuencia deben asociarse en paralelo y considerar la impedancia de contacto. Como la falta es aislada de tierra, puede observase que la RSH queda igualmente aislada (en circuito abierto). Considerando los equivalentes de Thévenin de las tres redes, el esquema queda simplificado:\n",
    "\n",
    "<img src=\"./Figs/T06P03_Fig06.png\" width=55%>"
   ]
  },
  {
   "cell_type": "code",
   "execution_count": 12,
   "metadata": {},
   "outputs": [
    {
     "name": "stdout",
     "output_type": "stream",
     "text": [
      "I012 =  [ 0.+0.j          0.-4.36331961j -0.+4.36331961j]\n",
      "U012 =  [0. +0.j 0.5+0.j 0.5+0.j]\n"
     ]
    }
   ],
   "source": [
    "Z012 = np.array([Z0,Z1,Z2])\n",
    "I0 = 0\n",
    "I1 = E/(Z012[1]+Z012[2])\n",
    "I2 = -I1\n",
    "I012 = np.array([I0,I1,I2])\n",
    "print('I012 = ',I012)\n",
    "U0 = 0\n",
    "U1 = E-I1*Z012[1]\n",
    "U2 = -I2*Z012[2]\n",
    "U012 = np.array([U0,U1,U2])\n",
    "print('U012 = ',U012)"
   ]
  },
  {
   "cell_type": "markdown",
   "metadata": {},
   "source": [
    "Una vez determinadas las corrientes y tensiones para cada una de las redes de secuencia en el punto de falta (barra 2 en este caso) se debe determinar las componentes simétricas de las variables deseadas (corriente en la línea L1 y en el neutro del transformador T1). Para ello se deberá aplicar el **TEOREMA DE SUSTITUCIÓN** por el cual, en cada una de las redes de secuencia, se sustituirá la falta por una fuente de intensidad (o de tensión si se prefiere) equivalente a la corriente (o tensión) producida por la falta. Una vez sustituida la falta por su equivalente se operará el circuito hasta despejar la variable deseada y, finalmente, se obtendrán los valores en el dominio de fases mediante el cambio de base usando la Matriz de Fortescue ($\\left[T\\right]$).\n",
    "\n",
    "<img src=\"./Figs/T06P03_Fig07.png\" width=85%>"
   ]
  },
  {
   "cell_type": "markdown",
   "metadata": {},
   "source": [
    "### Corrientes de fase de la línea L1 ante falta bifásica aislada en la barra 2"
   ]
  },
  {
   "cell_type": "code",
   "execution_count": 13,
   "metadata": {},
   "outputs": [
    {
     "name": "stdout",
     "output_type": "stream",
     "text": [
      "I012L1 [pu] = [0.+0.j         0.-1.39372822j 0.+1.39372822j]\n",
      "IRSTL1 [pu] = [ 0.        +0.00000000e+00j -2.41400809+7.77156117e-16j\n",
      "  2.41400809-7.77156117e-16j]\n"
     ]
    }
   ],
   "source": [
    "# Sustituimos el fallo por las fuentes de intensidad correspondientes y resolvemos el circuito resultante:\n",
    "\n",
    "# RSD:\n",
    "# Aplicamos el divisor de intensidad para determinar la contribución de la rama de la dcha. (Rama B1) a la corriente de cortocircuito.\n",
    "IB1 = I012[1]*RamaA1/(RamaA1+RamaB1)\n",
    "# Aplicamos nuevamente divisor de intensidad en la barra 2 para la corriente procedente de la rama de la dcha. (Rama B1).\n",
    "I1L1 = IB1*Zl2[1]/(Zl1[1]+Zl2[1])\n",
    "\n",
    "# RSI:\n",
    "# Ídem que RSD: Corriente rama B2.\n",
    "IB2 = I012[2]*RamaA2/(RamaA2+RamaB2)\n",
    "# Ídem que RSD: Corriente L1.\n",
    "I2L1 = IB2*Zl2[2]/(Zl1[2]+Zl2[2])\n",
    "\n",
    "# RSH:\n",
    "# Ídem que RSD: Corriente rama B0.\n",
    "IB0 = I012[0]*0\n",
    "# Ídem que RSD: Corriente L1.\n",
    "I0L1 = IB0*Zl2[0]/(Zl1[0]+Zl2[0])\n",
    "\n",
    "# Componentes simétricas de la corriente por L1:\n",
    "I012L1 = np.array([I0L1,I1L1,I2L1])\n",
    "print('I012L1 [pu] =',I012L1)\n",
    "\n",
    "# Corriente por L1 en el dominio de fases:\n",
    "IRSTL1 = np.dot(T,np.transpose(I012L1))\n",
    "print('IRSTL1 [pu] =',IRSTL1)"
   ]
  },
  {
   "cell_type": "markdown",
   "metadata": {},
   "source": [
    "### Corriente por el neutro del transformador T1 ante falta bifásica aislada en la barra 2"
   ]
  },
  {
   "cell_type": "code",
   "execution_count": 14,
   "metadata": {},
   "outputs": [
    {
     "name": "stdout",
     "output_type": "stream",
     "text": [
      "InT1 [pu] = 0j\n"
     ]
    }
   ],
   "source": [
    "# La corriente que circula por el neutro del transformador T1 sería la componente homopolar de la corriente.\n",
    "I0nT1 = I012[0]\n",
    "\n",
    "# Corriente por el neutro de T1 en el dominio de fases:\n",
    "InT1 = 3*I0nT1\n",
    "print('InT1 [pu] =',InT1)"
   ]
  }
 ],
 "metadata": {
  "kernelspec": {
   "display_name": "Python 3",
   "language": "python",
   "name": "python3"
  },
  "language_info": {
   "codemirror_mode": {
    "name": "ipython",
    "version": 3
   },
   "file_extension": ".py",
   "mimetype": "text/x-python",
   "name": "python",
   "nbconvert_exporter": "python",
   "pygments_lexer": "ipython3",
   "version": "3.7.3"
  }
 },
 "nbformat": 4,
 "nbformat_minor": 2
}
